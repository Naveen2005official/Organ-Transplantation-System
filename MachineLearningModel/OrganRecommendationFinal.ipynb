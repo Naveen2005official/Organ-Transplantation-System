{
 "cells": [
  {
   "cell_type": "code",
   "execution_count": 3,
   "metadata": {
    "colab": {
     "base_uri": "https://localhost:8080/"
    },
    "executionInfo": {
     "elapsed": 24578,
     "status": "ok",
     "timestamp": 1727945772417,
     "user": {
      "displayName": "Naveen Kumar S",
      "userId": "03815337865502033827"
     },
     "user_tz": -330
    },
    "id": "fOVSG1ciCUgC",
    "outputId": "86611299-7ba5-4606-aead-986984ef468f"
   },
   "outputs": [
    {
     "name": "stdout",
     "output_type": "stream",
     "text": [
      "Recipient_ID              1005\n",
      "Recipient_Age               60\n",
      "Recipient_Gender          Male\n",
      "Recipient_Blood_Type        O+\n",
      "Organ_Type_Needed       Kidney\n",
      "Wait_Time_Months            59\n",
      "Priority_Level               3\n",
      "Name: 1004, dtype: object\n",
      "Best match donor for recipient:\n",
      " Donor_ID                      127\n",
      "Donor_Age                      49\n",
      "Donor_Gender               Female\n",
      "Donor_Blood_Type               O+\n",
      "Organ_Type                 Kidney\n",
      "Donation_Date          2023-06-14\n",
      "Compatibility_Score             1\n",
      "Name: 126, dtype: object\n"
     ]
    }
   ],
   "source": [
    "import pandas as pd\n",
    "import joblib\n",
    "\n",
    "# Load the donor and recipient datasets\n",
    "donors = pd.read_csv('E://Github Projects//OrganTransplantation//Datasets//donors.csv')\n",
    "recipients = pd.read_csv('E://Github Projects//OrganTransplantation//Datasets//recipients.csv')\n",
    "\n",
    "# Load the trained model\n",
    "model_file_path = 'E://Github Projects//OrganTransplantation//MachineLearningModel//organ_transplantation_model_final.pkl'  # Path to your saved model\n",
    "model_pipeline = joblib.load(model_file_path)\n",
    "\n",
    "# Example recipient details\n",
    "example_recipient = recipients.iloc[1004]  # Use the recipient you want to evaluate\n",
    "print(example_recipient)\n",
    "\n",
    "def recommend_best_donor(recipient, donors, model):\n",
    "    \"\"\"\n",
    "    Recommend the most compatible donor for a given recipient.\n",
    "    \"\"\"\n",
    "    donors_copy = donors.copy()\n",
    "    recipients_repeated = pd.DataFrame([recipient] * len(donors_copy))\n",
    "    combined = pd.concat([recipients_repeated.reset_index(drop=True), donors_copy.reset_index(drop=True)], axis=1)\n",
    "    compatibility_scores = model.predict(combined)\n",
    "    donors_copy['Compatibility_Score'] = compatibility_scores\n",
    "    best_donor = donors_copy.loc[donors_copy['Compatibility_Score'].idxmax()]\n",
    "    return best_donor\n",
    "best_match = recommend_best_donor(example_recipient, donors, model_pipeline)\n",
    "print(\"Best match donor for recipient:\\n\", best_match)\n"
   ]
  }
 ],
 "metadata": {
  "colab": {
   "authorship_tag": "ABX9TyN1NCpaXxQ1/oEhU8Omp+8y",
   "provenance": []
  },
  "kernelspec": {
   "display_name": "Python 3",
   "name": "python3"
  },
  "language_info": {
   "codemirror_mode": {
    "name": "ipython",
    "version": 3
   },
   "file_extension": ".py",
   "mimetype": "text/x-python",
   "name": "python",
   "nbconvert_exporter": "python",
   "pygments_lexer": "ipython3",
   "version": "3.13.1"
  }
 },
 "nbformat": 4,
 "nbformat_minor": 0
}
